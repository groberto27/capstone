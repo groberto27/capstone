{
 "cells": [
  {
   "cell_type": "markdown",
   "id": "19d15f74",
   "metadata": {},
   "source": [
    "# Capstone Resumes\n",
    "## Saxa 4"
   ]
  },
  {
   "cell_type": "markdown",
   "id": "be9f6574",
   "metadata": {},
   "source": [
    "***"
   ]
  },
  {
   "cell_type": "code",
   "execution_count": 1,
   "id": "d46e171d",
   "metadata": {},
   "outputs": [
    {
     "name": "stderr",
     "output_type": "stream",
     "text": [
      "[nltk_data] Downloading package punkt to\n",
      "[nltk_data]     /Users/nicholasreese/nltk_data...\n",
      "[nltk_data]   Package punkt is already up-to-date!\n"
     ]
    }
   ],
   "source": [
    "import requests\n",
    "from bs4 import BeautifulSoup\n",
    "import pandas as pd\n",
    "import json\n",
    "from docx import Document\n",
    "import os\n",
    "from sklearn.feature_extraction.text import CountVectorizer\n",
    "import matplotlib.pyplot as plt\n",
    "from wordcloud import WordCloud\n",
    "import pdfplumber\n",
    "import nltk\n",
    "nltk.download('punkt')\n",
    "from textblob import TextBlob"
   ]
  },
  {
   "cell_type": "markdown",
   "id": "c65ca3b6",
   "metadata": {},
   "source": [
    "***"
   ]
  },
  {
   "cell_type": "code",
   "execution_count": 2,
   "id": "93e72525",
   "metadata": {},
   "outputs": [
    {
     "name": "stdout",
     "output_type": "stream",
     "text": [
      "[\n",
      "    {\n",
      "        \"title\": \"Genesis Roberto 2024 Resume.docx\",\n",
      "        \"text\": \"Ms. Genesis U. Roberto \\n     Rockville, MD   \\t (503) 995-9232\\t      groberto27@gmail.com \\t             Active CPA (MD, VA)\\n\\nProfile: A data driven, results oriented finance and accounting professional with deep experience in financial statements reporting requirement under US GAAP and SOX internal controls. Well-versed in financial statement analysis, M&A due diligence reviews and government contracting process with Master’s degree in Business Analysis from Georgetown University. \\n\\nProfessional Experience\\t\\t\\t\\t\\nSaggar and Rosenberg, CPAs – Rockville, MD\\tDec 2023 - Present\\nSenior Manager, Audit Services\\nManaged financial audits & reviews for corporate clients in the defense contractors, retail and engineering industry.\\nSupported clients in corporate growth strategy and valuation modeling initiatives, including buy and sell-side advisory services.\\nEvaluated compliance with ASC 606, ASC 842, and ASC 326 for clients, improving financial reporting accuracy.\\nPrepare technical accounting memos and documentation to support accounting conclusions and positions\\n\\nErnst and Young LLP - Tysons, Virginia\\tNov 2021 - Jun 2023\\nManager, Strategy and Transactions advisory services\\t\\nLed buy and sell side financial due diligence M&A deals with focus on manufacturing buy side and bio-tech life sciences sectors. Work entailed information gathering, data room management, facilitate diligence meetings, draft and review tailored due diligence reports specific to key issues such as normalized earnings, achievability of management’s budget, indebtedness considerations, and working capital analysis. \\nManaged a team in preparing management call agendas, performed price volume analysis to address inflationary concerns using Alteryx and PowerBi.\\n\\nManager, Technical Accounting and Advisory Services (FAAS), Audit & Assurance \\t\\nFresh start technical accounting advisory support (ASC 852 Reorganization) for a large public telecommunication company including ASC 842 lease accounting adoption and transition, entailing technical information gathering, design of lease abstraction form and mapping to third party lease software (Visual Lease). \\nClosing balance sheet review for a business combination supporting purchaser’s internal audit review \\nAccounting subject matter ability under International Financial Reporting Standards (IFRS) for a Canadian client, primarily in expected credit loss methodology; IFRS to US GAAP bridging and technical review of goodwill memos. \\n\\nGrant Thornton LLP - Arlington, VA \\tOct 2018 - Nov 2021\\nExperienced Manager, Financial due diligence, Strategy and Transactions advisory services\\t\\nCoordinated and managed transaction support and financial due diligence for client industries in the telecommunications, manufacturing, government, defense & trade, and IT industries. \\nPerformed financial analysis and modelling of M&A opportunities, including analyzing and explaining historical and projected financial information, proforma financial models and key assumptions. \\n\\nAdvisory Experienced Manager, Grant Thornton Public Sector advisory services\\t\\nProject 1: Deputy Account Lead/ Audit & Project Manager, Contractors for PBGC federal contract  \\t\\nManaged seven (7) contract task orders under a five-year $12m contract award entailing due diligence historical reviews of trusteed single-employer pension plans for completeness, accuracy and proper valuation of plan assets and liabilities.\\nManaged a staff of 15-20 on all areas of client delivery, audit technical reviews and project management \\nSuccessfully advised client management of their implementation of TeamMate audit management system \\nServed as audit technical reviewer over three contract task orders with total award value of $21m \\n\\nProject 2:  Business development key initiatives for Grant Thornton Public Sector LLP\\t\\nLed technical proposal writing and managed consolidation of proposal package to win a 5-year sole source contract award for data extraction and analysis using ACL based computer-assisted auditing techniques.\\nDeveloped thought leadership, detailed stakeholder mapping analysis, and maintained client relations for a $20m award\\nManaged past performance and teaming partnership negotiations for the Dept. of Housing and Urban Development (HUD) Strategic Management and Consulting Services resulting in a $180m 5-year Blanket Purchase award win. \\nServed as co-technical lead/ writer for a CFPB IT Project Management support services 5-year contract award of $19m.          \\nDynamic, organized, and meticulous leader supporting successful bid submissions for 15+ government solicitations for DOJ, CFPB, FDIC, HUD, SEC, PBGC & various state, and local governments. \\n\\n\\n\\nRepublic of Palau National Government, Office of Public Auditor - Koror, Palau \\tDec 2016 - Sept 2018\\nAudit Manager\\t\\nRefined existing process on monitoring outsourced National government single audits and its 6 component units. \\nManaged procurement and vendor selection process for outsourced national and state financial statement audits (cash basis) and single audit (accrual)\\nInitiated pilot efforts and worked as champion on employing new audit management system Teammate. \\nHeavily involved in the drafting and publishing of firm wide SOPs, manuals, and policy mandate on financial audits following regulatory mandates.\\nDeveloped structured program relating to staff development in technical expertise and business acumen.\\nAdvised on national project relating to local governance strengthening project with United Nations Development Program and Ministry of State, resulting in training frameworks, local governance SOPs, and personnel competency framework.\\n\\nGrant Thornton, LLP - Portland, OR\\t Aug 2015 - Dec 2016\\nAudit Senior III, Assurance services\\t\\nManaged audit and review engagements for publicly traded clients and private clients in the manufacturing, professional consulting, real estate, employee benefit plans and wholesale industries.\\nLed teams remotely from shared service centers in Bangalore, India on audit engagements.\\nInvolved with and preparing technical and consultation memos over complex auditing of estimates including goodwill impairment analysis, business combinations, debt restructuring, and fair value valuations..\\nUnderstanding and experience with US GAAP, US GAAS, PCAOB auditing standards, Sarbanes-Oxley (SOX) compliance control testing, Internal controls over Financial Reporting (ICFR) audits.\\nTrained junior resources on technical execution and conducted staff performance evaluations contribution to overall staff retention and continuity on engagements.\\nCollaborated closely with partners and senior leadership on budgeting, staffing, and proposed client fees.\\n\\nN&K CPAs, Inc. - Honolulu, HI \\tOct 2011 - Jul 2015\\nAudit Supervisor, Assurance services\\t\\t\\nAssumed full responsibility for planning and performing audit and review engagements for various client industries, including government, construction, employee benefit plans, low-income housing, and not-for-profit organizations.\\nOrganized, coordinate, and supervised large engagements while taking proactive measures to solve complex issues, with in-depth understanding of general ledger, journal entries, accounting system flows and efficient ways to perform audit risk planning and testing of controls and substantive work.\\nIndependently planned and supervised tests of controls over various clients’ accounting systems.\\nPerformed single audits in compliance with generally accepted government auditing standard including complex government clients (State Dept. of Education, State Dept. of Human Services and County of Maui.)\\n\\nPalau Office of Public Auditor - Koror, Palau \\tAug 2010 - Aug 2011\\nJunior Auditor, Assurance services\\nIssued 5-year State government performance audit report under Gen. Accepted Govt. Auditing Standards (GAGAS).\\n\\n\\nEducation\\t\\t\\t\\t\\t\\t\\t\\t\\t\\t\\t\\t\\nMaster of Science in Business Analytics, Georgetown University, expected graduation Dec. 2024\\nBachelor of Science in Accounting, Brigham Young University-Hawaii\\n\\n\\t\\t\\nCertification\\t\\t\\t\\t\\t\\t\\t\\t\\t\\t\\t\\t\\nCertified Public Accountant (HI, VA, MD)\\nState of Maryland # 45308 (exp. Jun. 2025), State of Virginia # 51887 (exp. Jun. 2024),\\nCertified Government Financial Manager (CGFM), Washington DC, 2019 (Inactive)\\n\\n\\nCore Competencies\\t\\t\\t\\t\\t\\t\\t\\t\\t\\t\\t\\nFinancial statement reporting (balance sheet, income statement, statement of cash flows, treasury, accounts payable, accounts receivable, general ledger, journal entries, technical accounting, ASC 606, ASC 842, ASC 805) \\nAudit and internal controls (SOX compliance, internal controls over financial reporting, US GAAS, U.S Yellow Book standards, internal audit reviews, audit risk assessment, auditing estimates)\\nFinancial due diligence (quality of earnings report, working capital analysis, net debt, finance KPI metrics)\\nModeling and analysis (advanced excel, Tableau, R programming, Blackline, Visual Lease, IDEA, ACL) \",\n",
      "        \"type\": \"word\",\n",
      "        \"file_path\": \"/Users/nicholasreese/Desktop/Georgetown/Capstone/NER_Modeling/Genesis Roberto 2024 Resume.docx\"\n",
      "    }\n",
      "]\n",
      "Added .docx: Genesis Roberto 2024 Resume.docx\n",
      "[\n",
      "    {\n",
      "        \"title\": \"Genesis Roberto 2024 Resume.docx\",\n",
      "        \"text\": \"Ms. Genesis U. Roberto \\n     Rockville, MD   \\t (503) 995-9232\\t      groberto27@gmail.com \\t             Active CPA (MD, VA)\\n\\nProfile: A data driven, results oriented finance and accounting professional with deep experience in financial statements reporting requirement under US GAAP and SOX internal controls. Well-versed in financial statement analysis, M&A due diligence reviews and government contracting process with Master’s degree in Business Analysis from Georgetown University. \\n\\nProfessional Experience\\t\\t\\t\\t\\nSaggar and Rosenberg, CPAs – Rockville, MD\\tDec 2023 - Present\\nSenior Manager, Audit Services\\nManaged financial audits & reviews for corporate clients in the defense contractors, retail and engineering industry.\\nSupported clients in corporate growth strategy and valuation modeling initiatives, including buy and sell-side advisory services.\\nEvaluated compliance with ASC 606, ASC 842, and ASC 326 for clients, improving financial reporting accuracy.\\nPrepare technical accounting memos and documentation to support accounting conclusions and positions\\n\\nErnst and Young LLP - Tysons, Virginia\\tNov 2021 - Jun 2023\\nManager, Strategy and Transactions advisory services\\t\\nLed buy and sell side financial due diligence M&A deals with focus on manufacturing buy side and bio-tech life sciences sectors. Work entailed information gathering, data room management, facilitate diligence meetings, draft and review tailored due diligence reports specific to key issues such as normalized earnings, achievability of management’s budget, indebtedness considerations, and working capital analysis. \\nManaged a team in preparing management call agendas, performed price volume analysis to address inflationary concerns using Alteryx and PowerBi.\\n\\nManager, Technical Accounting and Advisory Services (FAAS), Audit & Assurance \\t\\nFresh start technical accounting advisory support (ASC 852 Reorganization) for a large public telecommunication company including ASC 842 lease accounting adoption and transition, entailing technical information gathering, design of lease abstraction form and mapping to third party lease software (Visual Lease). \\nClosing balance sheet review for a business combination supporting purchaser’s internal audit review \\nAccounting subject matter ability under International Financial Reporting Standards (IFRS) for a Canadian client, primarily in expected credit loss methodology; IFRS to US GAAP bridging and technical review of goodwill memos. \\n\\nGrant Thornton LLP - Arlington, VA \\tOct 2018 - Nov 2021\\nExperienced Manager, Financial due diligence, Strategy and Transactions advisory services\\t\\nCoordinated and managed transaction support and financial due diligence for client industries in the telecommunications, manufacturing, government, defense & trade, and IT industries. \\nPerformed financial analysis and modelling of M&A opportunities, including analyzing and explaining historical and projected financial information, proforma financial models and key assumptions. \\n\\nAdvisory Experienced Manager, Grant Thornton Public Sector advisory services\\t\\nProject 1: Deputy Account Lead/ Audit & Project Manager, Contractors for PBGC federal contract  \\t\\nManaged seven (7) contract task orders under a five-year $12m contract award entailing due diligence historical reviews of trusteed single-employer pension plans for completeness, accuracy and proper valuation of plan assets and liabilities.\\nManaged a staff of 15-20 on all areas of client delivery, audit technical reviews and project management \\nSuccessfully advised client management of their implementation of TeamMate audit management system \\nServed as audit technical reviewer over three contract task orders with total award value of $21m \\n\\nProject 2:  Business development key initiatives for Grant Thornton Public Sector LLP\\t\\nLed technical proposal writing and managed consolidation of proposal package to win a 5-year sole source contract award for data extraction and analysis using ACL based computer-assisted auditing techniques.\\nDeveloped thought leadership, detailed stakeholder mapping analysis, and maintained client relations for a $20m award\\nManaged past performance and teaming partnership negotiations for the Dept. of Housing and Urban Development (HUD) Strategic Management and Consulting Services resulting in a $180m 5-year Blanket Purchase award win. \\nServed as co-technical lead/ writer for a CFPB IT Project Management support services 5-year contract award of $19m.          \\nDynamic, organized, and meticulous leader supporting successful bid submissions for 15+ government solicitations for DOJ, CFPB, FDIC, HUD, SEC, PBGC & various state, and local governments. \\n\\n\\n\\nRepublic of Palau National Government, Office of Public Auditor - Koror, Palau \\tDec 2016 - Sept 2018\\nAudit Manager\\t\\nRefined existing process on monitoring outsourced National government single audits and its 6 component units. \\nManaged procurement and vendor selection process for outsourced national and state financial statement audits (cash basis) and single audit (accrual)\\nInitiated pilot efforts and worked as champion on employing new audit management system Teammate. \\nHeavily involved in the drafting and publishing of firm wide SOPs, manuals, and policy mandate on financial audits following regulatory mandates.\\nDeveloped structured program relating to staff development in technical expertise and business acumen.\\nAdvised on national project relating to local governance strengthening project with United Nations Development Program and Ministry of State, resulting in training frameworks, local governance SOPs, and personnel competency framework.\\n\\nGrant Thornton, LLP - Portland, OR\\t Aug 2015 - Dec 2016\\nAudit Senior III, Assurance services\\t\\nManaged audit and review engagements for publicly traded clients and private clients in the manufacturing, professional consulting, real estate, employee benefit plans and wholesale industries.\\nLed teams remotely from shared service centers in Bangalore, India on audit engagements.\\nInvolved with and preparing technical and consultation memos over complex auditing of estimates including goodwill impairment analysis, business combinations, debt restructuring, and fair value valuations..\\nUnderstanding and experience with US GAAP, US GAAS, PCAOB auditing standards, Sarbanes-Oxley (SOX) compliance control testing, Internal controls over Financial Reporting (ICFR) audits.\\nTrained junior resources on technical execution and conducted staff performance evaluations contribution to overall staff retention and continuity on engagements.\\nCollaborated closely with partners and senior leadership on budgeting, staffing, and proposed client fees.\\n\\nN&K CPAs, Inc. - Honolulu, HI \\tOct 2011 - Jul 2015\\nAudit Supervisor, Assurance services\\t\\t\\nAssumed full responsibility for planning and performing audit and review engagements for various client industries, including government, construction, employee benefit plans, low-income housing, and not-for-profit organizations.\\nOrganized, coordinate, and supervised large engagements while taking proactive measures to solve complex issues, with in-depth understanding of general ledger, journal entries, accounting system flows and efficient ways to perform audit risk planning and testing of controls and substantive work.\\nIndependently planned and supervised tests of controls over various clients’ accounting systems.\\nPerformed single audits in compliance with generally accepted government auditing standard including complex government clients (State Dept. of Education, State Dept. of Human Services and County of Maui.)\\n\\nPalau Office of Public Auditor - Koror, Palau \\tAug 2010 - Aug 2011\\nJunior Auditor, Assurance services\\nIssued 5-year State government performance audit report under Gen. Accepted Govt. Auditing Standards (GAGAS).\\n\\n\\nEducation\\t\\t\\t\\t\\t\\t\\t\\t\\t\\t\\t\\t\\nMaster of Science in Business Analytics, Georgetown University, expected graduation Dec. 2024\\nBachelor of Science in Accounting, Brigham Young University-Hawaii\\n\\n\\t\\t\\nCertification\\t\\t\\t\\t\\t\\t\\t\\t\\t\\t\\t\\t\\nCertified Public Accountant (HI, VA, MD)\\nState of Maryland # 45308 (exp. Jun. 2025), State of Virginia # 51887 (exp. Jun. 2024),\\nCertified Government Financial Manager (CGFM), Washington DC, 2019 (Inactive)\\n\\n\\nCore Competencies\\t\\t\\t\\t\\t\\t\\t\\t\\t\\t\\t\\nFinancial statement reporting (balance sheet, income statement, statement of cash flows, treasury, accounts payable, accounts receivable, general ledger, journal entries, technical accounting, ASC 606, ASC 842, ASC 805) \\nAudit and internal controls (SOX compliance, internal controls over financial reporting, US GAAS, U.S Yellow Book standards, internal audit reviews, audit risk assessment, auditing estimates)\\nFinancial due diligence (quality of earnings report, working capital analysis, net debt, finance KPI metrics)\\nModeling and analysis (advanced excel, Tableau, R programming, Blackline, Visual Lease, IDEA, ACL) \",\n",
      "        \"type\": \"word\",\n",
      "        \"file_path\": \"/Users/nicholasreese/Desktop/Georgetown/Capstone/NER_Modeling/Genesis Roberto 2024 Resume.docx\"\n",
      "    },\n",
      "    {\n",
      "        \"title\": \"Jonathan J Saville resume.docx\",\n",
      "        \"text\": \"Jonathan J Saville\\n503 Edwards Ave, Apt #7    | 859-314-2172    | jonsav@gmail.com\\nRichmond, Kentucky         \\nLexington Marriott City Center Bar Supervisor\\nDecember 7, 2019-October 31 2021\\nMarriott City Center                                                                        Lexington, Kentucky\\n\\nProvided food and beverage service to several guests, Performed several management duties such as Purchasing, Inventory, Menu Creation, Pricing, etc.\\nAwarded Associate of the Month for July 2020\\nAwarded Front of House Associate of the Year for 2020\\n\\nOffice Admin                                                                                 \\nSeptember 2018-September 2019\\nFedex Ground                                                                                Lexington, Kentucky\\n\\nMajor Accomplishments\\n\\n\\nPromoted from Package Handler to Office Admin\\n\\nEvent Bartender                                                                                \\nOctober 2018-March 2020\\nEZgigs Staffing Service                                                                  Lexington, Kentucky \\n\\nMajor Events\\n\\n\\nChris Stapleton concert at Rupp Arena\\nHarrodsburg Oktoberfest\\n\\nEvent and Restaurant Bartender                                                \\nNovember 2018-March 2020\\nHyatt Regency Lexington.                                                              Lexington, Kentucky\\n\\nProvided drink service to several upscale events along with working in the Hyttops Sports Bar as well as briefly in Bluefire Bar and Grill making sure to provide quality customer service in any atmosphere. Also performed several inventory and set up tasks as well as Serving as a banquet captain for several events.\\n\\nConcessions and Dining Hall Bartender\\nApril 4th, 2018-March 2020\\nKeeneland Hospitality                                                                    Lexington, Kentucky\\n\\nProvided drink service to thousands of guests, making sure bars were stocked and organized. Moved to different bars and register locations each day, and performed inventory tasks on liquor, mixers, and produce.  Also worked not only during the meet, but for the horse auctions as well.\\n\\nEvent Bartender\\nMarch 23, 2019-Present\\nDupree Catering                                                                             Lexington, Kentucky\\n\\nProvided drink service to guests, as well as setup and teardown of different bars at various locations around the state, such as Buffalo Trace, Limestone Hall, private farms, etc.\\n\\nOffice Admin                                                                                 \\nSeptember 2018-September 2019\\nFedex Ground                                                                                Lexington, Kentucky\\n\\nMajor Accomplishments\\n\\n\\nPromoted from Package Handler to Office Admin\\n\\nNight Manager                                                                                        \\nSeptember 2014-August 2018\\nBroadmoor Heights Car Care And Convenience                             Loveland, CO             \\n\\nMajor Accomplishments\\n\\n\\nLed a sales initiative to find lower prices on products raising the profit margin by 60%\\nRe-wrote checklists, inventory, and guide sheets to better help new employees fulfill tasks\\nExpanded the regular customer base by a large margin through leading with new standards of customer service and contributing to a friendly and helpful atmosphere\\nContributed to lowering the turnover rate by listening to employees concerns and helping to communicate complaints to the owner and to each other, effectively reducing the need for termination and resignation\\n\\nRoof Repairman                                                                                               \\nMay 2011- August 2018\\nSaville Roofing \\t\\t\\t\\t\\t\\t\\t        Loveland, CO\\n\\nSpecialized in leak repairs and large maintenance projects on commercial buildings and condominium associations; provided quality customer service to customers; gave detailed explanations of what problems were present\\n\\t\\nMajor Accomplishments\\n\\n\\nCompleted a large scale roofing and metal capping maintenance project for a condominium association in Boulder, Colorado involving detailed EPDM repair and metal work, along with use of chemicals and adhesives\\nCompleted a large scale waterproofing project in Boulder, Colorado involving detailed work with chemicals, adhesives, and polyurethane deck systems, in addition to calmly settling complaints by residents with quality customer service skills\\n\\nDiploma\\nLoveland Classical Schools, Loveland, CO                                                                    2011-2015\\n\\nGraduate\\nLexington Bartending School, Lexington, KY                                                                          2018\",\n",
      "        \"type\": \"word\",\n",
      "        \"file_path\": \"/Users/nicholasreese/Desktop/Georgetown/Capstone/NER_Modeling/Jonathan J Saville resume.docx\"\n",
      "    }\n",
      "]\n",
      "Added .docx: Jonathan J Saville resume.docx\n",
      "[\n",
      "    {\n",
      "        \"title\": \"Genesis Roberto 2024 Resume.docx\",\n",
      "        \"text\": \"Ms. Genesis U. Roberto \\n     Rockville, MD   \\t (503) 995-9232\\t      groberto27@gmail.com \\t             Active CPA (MD, VA)\\n\\nProfile: A data driven, results oriented finance and accounting professional with deep experience in financial statements reporting requirement under US GAAP and SOX internal controls. Well-versed in financial statement analysis, M&A due diligence reviews and government contracting process with Master’s degree in Business Analysis from Georgetown University. \\n\\nProfessional Experience\\t\\t\\t\\t\\nSaggar and Rosenberg, CPAs – Rockville, MD\\tDec 2023 - Present\\nSenior Manager, Audit Services\\nManaged financial audits & reviews for corporate clients in the defense contractors, retail and engineering industry.\\nSupported clients in corporate growth strategy and valuation modeling initiatives, including buy and sell-side advisory services.\\nEvaluated compliance with ASC 606, ASC 842, and ASC 326 for clients, improving financial reporting accuracy.\\nPrepare technical accounting memos and documentation to support accounting conclusions and positions\\n\\nErnst and Young LLP - Tysons, Virginia\\tNov 2021 - Jun 2023\\nManager, Strategy and Transactions advisory services\\t\\nLed buy and sell side financial due diligence M&A deals with focus on manufacturing buy side and bio-tech life sciences sectors. Work entailed information gathering, data room management, facilitate diligence meetings, draft and review tailored due diligence reports specific to key issues such as normalized earnings, achievability of management’s budget, indebtedness considerations, and working capital analysis. \\nManaged a team in preparing management call agendas, performed price volume analysis to address inflationary concerns using Alteryx and PowerBi.\\n\\nManager, Technical Accounting and Advisory Services (FAAS), Audit & Assurance \\t\\nFresh start technical accounting advisory support (ASC 852 Reorganization) for a large public telecommunication company including ASC 842 lease accounting adoption and transition, entailing technical information gathering, design of lease abstraction form and mapping to third party lease software (Visual Lease). \\nClosing balance sheet review for a business combination supporting purchaser’s internal audit review \\nAccounting subject matter ability under International Financial Reporting Standards (IFRS) for a Canadian client, primarily in expected credit loss methodology; IFRS to US GAAP bridging and technical review of goodwill memos. \\n\\nGrant Thornton LLP - Arlington, VA \\tOct 2018 - Nov 2021\\nExperienced Manager, Financial due diligence, Strategy and Transactions advisory services\\t\\nCoordinated and managed transaction support and financial due diligence for client industries in the telecommunications, manufacturing, government, defense & trade, and IT industries. \\nPerformed financial analysis and modelling of M&A opportunities, including analyzing and explaining historical and projected financial information, proforma financial models and key assumptions. \\n\\nAdvisory Experienced Manager, Grant Thornton Public Sector advisory services\\t\\nProject 1: Deputy Account Lead/ Audit & Project Manager, Contractors for PBGC federal contract  \\t\\nManaged seven (7) contract task orders under a five-year $12m contract award entailing due diligence historical reviews of trusteed single-employer pension plans for completeness, accuracy and proper valuation of plan assets and liabilities.\\nManaged a staff of 15-20 on all areas of client delivery, audit technical reviews and project management \\nSuccessfully advised client management of their implementation of TeamMate audit management system \\nServed as audit technical reviewer over three contract task orders with total award value of $21m \\n\\nProject 2:  Business development key initiatives for Grant Thornton Public Sector LLP\\t\\nLed technical proposal writing and managed consolidation of proposal package to win a 5-year sole source contract award for data extraction and analysis using ACL based computer-assisted auditing techniques.\\nDeveloped thought leadership, detailed stakeholder mapping analysis, and maintained client relations for a $20m award\\nManaged past performance and teaming partnership negotiations for the Dept. of Housing and Urban Development (HUD) Strategic Management and Consulting Services resulting in a $180m 5-year Blanket Purchase award win. \\nServed as co-technical lead/ writer for a CFPB IT Project Management support services 5-year contract award of $19m.          \\nDynamic, organized, and meticulous leader supporting successful bid submissions for 15+ government solicitations for DOJ, CFPB, FDIC, HUD, SEC, PBGC & various state, and local governments. \\n\\n\\n\\nRepublic of Palau National Government, Office of Public Auditor - Koror, Palau \\tDec 2016 - Sept 2018\\nAudit Manager\\t\\nRefined existing process on monitoring outsourced National government single audits and its 6 component units. \\nManaged procurement and vendor selection process for outsourced national and state financial statement audits (cash basis) and single audit (accrual)\\nInitiated pilot efforts and worked as champion on employing new audit management system Teammate. \\nHeavily involved in the drafting and publishing of firm wide SOPs, manuals, and policy mandate on financial audits following regulatory mandates.\\nDeveloped structured program relating to staff development in technical expertise and business acumen.\\nAdvised on national project relating to local governance strengthening project with United Nations Development Program and Ministry of State, resulting in training frameworks, local governance SOPs, and personnel competency framework.\\n\\nGrant Thornton, LLP - Portland, OR\\t Aug 2015 - Dec 2016\\nAudit Senior III, Assurance services\\t\\nManaged audit and review engagements for publicly traded clients and private clients in the manufacturing, professional consulting, real estate, employee benefit plans and wholesale industries.\\nLed teams remotely from shared service centers in Bangalore, India on audit engagements.\\nInvolved with and preparing technical and consultation memos over complex auditing of estimates including goodwill impairment analysis, business combinations, debt restructuring, and fair value valuations..\\nUnderstanding and experience with US GAAP, US GAAS, PCAOB auditing standards, Sarbanes-Oxley (SOX) compliance control testing, Internal controls over Financial Reporting (ICFR) audits.\\nTrained junior resources on technical execution and conducted staff performance evaluations contribution to overall staff retention and continuity on engagements.\\nCollaborated closely with partners and senior leadership on budgeting, staffing, and proposed client fees.\\n\\nN&K CPAs, Inc. - Honolulu, HI \\tOct 2011 - Jul 2015\\nAudit Supervisor, Assurance services\\t\\t\\nAssumed full responsibility for planning and performing audit and review engagements for various client industries, including government, construction, employee benefit plans, low-income housing, and not-for-profit organizations.\\nOrganized, coordinate, and supervised large engagements while taking proactive measures to solve complex issues, with in-depth understanding of general ledger, journal entries, accounting system flows and efficient ways to perform audit risk planning and testing of controls and substantive work.\\nIndependently planned and supervised tests of controls over various clients’ accounting systems.\\nPerformed single audits in compliance with generally accepted government auditing standard including complex government clients (State Dept. of Education, State Dept. of Human Services and County of Maui.)\\n\\nPalau Office of Public Auditor - Koror, Palau \\tAug 2010 - Aug 2011\\nJunior Auditor, Assurance services\\nIssued 5-year State government performance audit report under Gen. Accepted Govt. Auditing Standards (GAGAS).\\n\\n\\nEducation\\t\\t\\t\\t\\t\\t\\t\\t\\t\\t\\t\\t\\nMaster of Science in Business Analytics, Georgetown University, expected graduation Dec. 2024\\nBachelor of Science in Accounting, Brigham Young University-Hawaii\\n\\n\\t\\t\\nCertification\\t\\t\\t\\t\\t\\t\\t\\t\\t\\t\\t\\t\\nCertified Public Accountant (HI, VA, MD)\\nState of Maryland # 45308 (exp. Jun. 2025), State of Virginia # 51887 (exp. Jun. 2024),\\nCertified Government Financial Manager (CGFM), Washington DC, 2019 (Inactive)\\n\\n\\nCore Competencies\\t\\t\\t\\t\\t\\t\\t\\t\\t\\t\\t\\nFinancial statement reporting (balance sheet, income statement, statement of cash flows, treasury, accounts payable, accounts receivable, general ledger, journal entries, technical accounting, ASC 606, ASC 842, ASC 805) \\nAudit and internal controls (SOX compliance, internal controls over financial reporting, US GAAS, U.S Yellow Book standards, internal audit reviews, audit risk assessment, auditing estimates)\\nFinancial due diligence (quality of earnings report, working capital analysis, net debt, finance KPI metrics)\\nModeling and analysis (advanced excel, Tableau, R programming, Blackline, Visual Lease, IDEA, ACL) \",\n",
      "        \"type\": \"word\",\n",
      "        \"file_path\": \"/Users/nicholasreese/Desktop/Georgetown/Capstone/NER_Modeling/Genesis Roberto 2024 Resume.docx\"\n",
      "    },\n",
      "    {\n",
      "        \"title\": \"Jonathan J Saville resume.docx\",\n",
      "        \"text\": \"Jonathan J Saville\\n503 Edwards Ave, Apt #7    | 859-314-2172    | jonsav@gmail.com\\nRichmond, Kentucky         \\nLexington Marriott City Center Bar Supervisor\\nDecember 7, 2019-October 31 2021\\nMarriott City Center                                                                        Lexington, Kentucky\\n\\nProvided food and beverage service to several guests, Performed several management duties such as Purchasing, Inventory, Menu Creation, Pricing, etc.\\nAwarded Associate of the Month for July 2020\\nAwarded Front of House Associate of the Year for 2020\\n\\nOffice Admin                                                                                 \\nSeptember 2018-September 2019\\nFedex Ground                                                                                Lexington, Kentucky\\n\\nMajor Accomplishments\\n\\n\\nPromoted from Package Handler to Office Admin\\n\\nEvent Bartender                                                                                \\nOctober 2018-March 2020\\nEZgigs Staffing Service                                                                  Lexington, Kentucky \\n\\nMajor Events\\n\\n\\nChris Stapleton concert at Rupp Arena\\nHarrodsburg Oktoberfest\\n\\nEvent and Restaurant Bartender                                                \\nNovember 2018-March 2020\\nHyatt Regency Lexington.                                                              Lexington, Kentucky\\n\\nProvided drink service to several upscale events along with working in the Hyttops Sports Bar as well as briefly in Bluefire Bar and Grill making sure to provide quality customer service in any atmosphere. Also performed several inventory and set up tasks as well as Serving as a banquet captain for several events.\\n\\nConcessions and Dining Hall Bartender\\nApril 4th, 2018-March 2020\\nKeeneland Hospitality                                                                    Lexington, Kentucky\\n\\nProvided drink service to thousands of guests, making sure bars were stocked and organized. Moved to different bars and register locations each day, and performed inventory tasks on liquor, mixers, and produce.  Also worked not only during the meet, but for the horse auctions as well.\\n\\nEvent Bartender\\nMarch 23, 2019-Present\\nDupree Catering                                                                             Lexington, Kentucky\\n\\nProvided drink service to guests, as well as setup and teardown of different bars at various locations around the state, such as Buffalo Trace, Limestone Hall, private farms, etc.\\n\\nOffice Admin                                                                                 \\nSeptember 2018-September 2019\\nFedex Ground                                                                                Lexington, Kentucky\\n\\nMajor Accomplishments\\n\\n\\nPromoted from Package Handler to Office Admin\\n\\nNight Manager                                                                                        \\nSeptember 2014-August 2018\\nBroadmoor Heights Car Care And Convenience                             Loveland, CO             \\n\\nMajor Accomplishments\\n\\n\\nLed a sales initiative to find lower prices on products raising the profit margin by 60%\\nRe-wrote checklists, inventory, and guide sheets to better help new employees fulfill tasks\\nExpanded the regular customer base by a large margin through leading with new standards of customer service and contributing to a friendly and helpful atmosphere\\nContributed to lowering the turnover rate by listening to employees concerns and helping to communicate complaints to the owner and to each other, effectively reducing the need for termination and resignation\\n\\nRoof Repairman                                                                                               \\nMay 2011- August 2018\\nSaville Roofing \\t\\t\\t\\t\\t\\t\\t        Loveland, CO\\n\\nSpecialized in leak repairs and large maintenance projects on commercial buildings and condominium associations; provided quality customer service to customers; gave detailed explanations of what problems were present\\n\\t\\nMajor Accomplishments\\n\\n\\nCompleted a large scale roofing and metal capping maintenance project for a condominium association in Boulder, Colorado involving detailed EPDM repair and metal work, along with use of chemicals and adhesives\\nCompleted a large scale waterproofing project in Boulder, Colorado involving detailed work with chemicals, adhesives, and polyurethane deck systems, in addition to calmly settling complaints by residents with quality customer service skills\\n\\nDiploma\\nLoveland Classical Schools, Loveland, CO                                                                    2011-2015\\n\\nGraduate\\nLexington Bartending School, Lexington, KY                                                                          2018\",\n",
      "        \"type\": \"word\",\n",
      "        \"file_path\": \"/Users/nicholasreese/Desktop/Georgetown/Capstone/NER_Modeling/Jonathan J Saville resume.docx\"\n",
      "    },\n",
      "    {\n",
      "        \"title\": \"Ashlyn Bellardine Resume 2024.docx\",\n",
      "        \"text\": \"\",\n",
      "        \"type\": \"word\",\n",
      "        \"file_path\": \"/Users/nicholasreese/Desktop/Georgetown/Capstone/NER_Modeling/Ashlyn Bellardine Resume 2024.docx\"\n",
      "    }\n",
      "]\n",
      "Added .docx: Ashlyn Bellardine Resume 2024.docx\n",
      "Added .pdf: Dezmond Richardson GU Q3.2024 Resume.docx.pdf\n",
      "[\n",
      "    {\n",
      "        \"title\": \"Genesis Roberto 2024 Resume.docx\",\n",
      "        \"text\": \"Ms. Genesis U. Roberto \\n     Rockville, MD   \\t (503) 995-9232\\t      groberto27@gmail.com \\t             Active CPA (MD, VA)\\n\\nProfile: A data driven, results oriented finance and accounting professional with deep experience in financial statements reporting requirement under US GAAP and SOX internal controls. Well-versed in financial statement analysis, M&A due diligence reviews and government contracting process with Master’s degree in Business Analysis from Georgetown University. \\n\\nProfessional Experience\\t\\t\\t\\t\\nSaggar and Rosenberg, CPAs – Rockville, MD\\tDec 2023 - Present\\nSenior Manager, Audit Services\\nManaged financial audits & reviews for corporate clients in the defense contractors, retail and engineering industry.\\nSupported clients in corporate growth strategy and valuation modeling initiatives, including buy and sell-side advisory services.\\nEvaluated compliance with ASC 606, ASC 842, and ASC 326 for clients, improving financial reporting accuracy.\\nPrepare technical accounting memos and documentation to support accounting conclusions and positions\\n\\nErnst and Young LLP - Tysons, Virginia\\tNov 2021 - Jun 2023\\nManager, Strategy and Transactions advisory services\\t\\nLed buy and sell side financial due diligence M&A deals with focus on manufacturing buy side and bio-tech life sciences sectors. Work entailed information gathering, data room management, facilitate diligence meetings, draft and review tailored due diligence reports specific to key issues such as normalized earnings, achievability of management’s budget, indebtedness considerations, and working capital analysis. \\nManaged a team in preparing management call agendas, performed price volume analysis to address inflationary concerns using Alteryx and PowerBi.\\n\\nManager, Technical Accounting and Advisory Services (FAAS), Audit & Assurance \\t\\nFresh start technical accounting advisory support (ASC 852 Reorganization) for a large public telecommunication company including ASC 842 lease accounting adoption and transition, entailing technical information gathering, design of lease abstraction form and mapping to third party lease software (Visual Lease). \\nClosing balance sheet review for a business combination supporting purchaser’s internal audit review \\nAccounting subject matter ability under International Financial Reporting Standards (IFRS) for a Canadian client, primarily in expected credit loss methodology; IFRS to US GAAP bridging and technical review of goodwill memos. \\n\\nGrant Thornton LLP - Arlington, VA \\tOct 2018 - Nov 2021\\nExperienced Manager, Financial due diligence, Strategy and Transactions advisory services\\t\\nCoordinated and managed transaction support and financial due diligence for client industries in the telecommunications, manufacturing, government, defense & trade, and IT industries. \\nPerformed financial analysis and modelling of M&A opportunities, including analyzing and explaining historical and projected financial information, proforma financial models and key assumptions. \\n\\nAdvisory Experienced Manager, Grant Thornton Public Sector advisory services\\t\\nProject 1: Deputy Account Lead/ Audit & Project Manager, Contractors for PBGC federal contract  \\t\\nManaged seven (7) contract task orders under a five-year $12m contract award entailing due diligence historical reviews of trusteed single-employer pension plans for completeness, accuracy and proper valuation of plan assets and liabilities.\\nManaged a staff of 15-20 on all areas of client delivery, audit technical reviews and project management \\nSuccessfully advised client management of their implementation of TeamMate audit management system \\nServed as audit technical reviewer over three contract task orders with total award value of $21m \\n\\nProject 2:  Business development key initiatives for Grant Thornton Public Sector LLP\\t\\nLed technical proposal writing and managed consolidation of proposal package to win a 5-year sole source contract award for data extraction and analysis using ACL based computer-assisted auditing techniques.\\nDeveloped thought leadership, detailed stakeholder mapping analysis, and maintained client relations for a $20m award\\nManaged past performance and teaming partnership negotiations for the Dept. of Housing and Urban Development (HUD) Strategic Management and Consulting Services resulting in a $180m 5-year Blanket Purchase award win. \\nServed as co-technical lead/ writer for a CFPB IT Project Management support services 5-year contract award of $19m.          \\nDynamic, organized, and meticulous leader supporting successful bid submissions for 15+ government solicitations for DOJ, CFPB, FDIC, HUD, SEC, PBGC & various state, and local governments. \\n\\n\\n\\nRepublic of Palau National Government, Office of Public Auditor - Koror, Palau \\tDec 2016 - Sept 2018\\nAudit Manager\\t\\nRefined existing process on monitoring outsourced National government single audits and its 6 component units. \\nManaged procurement and vendor selection process for outsourced national and state financial statement audits (cash basis) and single audit (accrual)\\nInitiated pilot efforts and worked as champion on employing new audit management system Teammate. \\nHeavily involved in the drafting and publishing of firm wide SOPs, manuals, and policy mandate on financial audits following regulatory mandates.\\nDeveloped structured program relating to staff development in technical expertise and business acumen.\\nAdvised on national project relating to local governance strengthening project with United Nations Development Program and Ministry of State, resulting in training frameworks, local governance SOPs, and personnel competency framework.\\n\\nGrant Thornton, LLP - Portland, OR\\t Aug 2015 - Dec 2016\\nAudit Senior III, Assurance services\\t\\nManaged audit and review engagements for publicly traded clients and private clients in the manufacturing, professional consulting, real estate, employee benefit plans and wholesale industries.\\nLed teams remotely from shared service centers in Bangalore, India on audit engagements.\\nInvolved with and preparing technical and consultation memos over complex auditing of estimates including goodwill impairment analysis, business combinations, debt restructuring, and fair value valuations..\\nUnderstanding and experience with US GAAP, US GAAS, PCAOB auditing standards, Sarbanes-Oxley (SOX) compliance control testing, Internal controls over Financial Reporting (ICFR) audits.\\nTrained junior resources on technical execution and conducted staff performance evaluations contribution to overall staff retention and continuity on engagements.\\nCollaborated closely with partners and senior leadership on budgeting, staffing, and proposed client fees.\\n\\nN&K CPAs, Inc. - Honolulu, HI \\tOct 2011 - Jul 2015\\nAudit Supervisor, Assurance services\\t\\t\\nAssumed full responsibility for planning and performing audit and review engagements for various client industries, including government, construction, employee benefit plans, low-income housing, and not-for-profit organizations.\\nOrganized, coordinate, and supervised large engagements while taking proactive measures to solve complex issues, with in-depth understanding of general ledger, journal entries, accounting system flows and efficient ways to perform audit risk planning and testing of controls and substantive work.\\nIndependently planned and supervised tests of controls over various clients’ accounting systems.\\nPerformed single audits in compliance with generally accepted government auditing standard including complex government clients (State Dept. of Education, State Dept. of Human Services and County of Maui.)\\n\\nPalau Office of Public Auditor - Koror, Palau \\tAug 2010 - Aug 2011\\nJunior Auditor, Assurance services\\nIssued 5-year State government performance audit report under Gen. Accepted Govt. Auditing Standards (GAGAS).\\n\\n\\nEducation\\t\\t\\t\\t\\t\\t\\t\\t\\t\\t\\t\\t\\nMaster of Science in Business Analytics, Georgetown University, expected graduation Dec. 2024\\nBachelor of Science in Accounting, Brigham Young University-Hawaii\\n\\n\\t\\t\\nCertification\\t\\t\\t\\t\\t\\t\\t\\t\\t\\t\\t\\t\\nCertified Public Accountant (HI, VA, MD)\\nState of Maryland # 45308 (exp. Jun. 2025), State of Virginia # 51887 (exp. Jun. 2024),\\nCertified Government Financial Manager (CGFM), Washington DC, 2019 (Inactive)\\n\\n\\nCore Competencies\\t\\t\\t\\t\\t\\t\\t\\t\\t\\t\\t\\nFinancial statement reporting (balance sheet, income statement, statement of cash flows, treasury, accounts payable, accounts receivable, general ledger, journal entries, technical accounting, ASC 606, ASC 842, ASC 805) \\nAudit and internal controls (SOX compliance, internal controls over financial reporting, US GAAS, U.S Yellow Book standards, internal audit reviews, audit risk assessment, auditing estimates)\\nFinancial due diligence (quality of earnings report, working capital analysis, net debt, finance KPI metrics)\\nModeling and analysis (advanced excel, Tableau, R programming, Blackline, Visual Lease, IDEA, ACL) \",\n",
      "        \"type\": \"word\",\n",
      "        \"file_path\": \"/Users/nicholasreese/Desktop/Georgetown/Capstone/NER_Modeling/Genesis Roberto 2024 Resume.docx\"\n",
      "    },\n",
      "    {\n",
      "        \"title\": \"Jonathan J Saville resume.docx\",\n",
      "        \"text\": \"Jonathan J Saville\\n503 Edwards Ave, Apt #7    | 859-314-2172    | jonsav@gmail.com\\nRichmond, Kentucky         \\nLexington Marriott City Center Bar Supervisor\\nDecember 7, 2019-October 31 2021\\nMarriott City Center                                                                        Lexington, Kentucky\\n\\nProvided food and beverage service to several guests, Performed several management duties such as Purchasing, Inventory, Menu Creation, Pricing, etc.\\nAwarded Associate of the Month for July 2020\\nAwarded Front of House Associate of the Year for 2020\\n\\nOffice Admin                                                                                 \\nSeptember 2018-September 2019\\nFedex Ground                                                                                Lexington, Kentucky\\n\\nMajor Accomplishments\\n\\n\\nPromoted from Package Handler to Office Admin\\n\\nEvent Bartender                                                                                \\nOctober 2018-March 2020\\nEZgigs Staffing Service                                                                  Lexington, Kentucky \\n\\nMajor Events\\n\\n\\nChris Stapleton concert at Rupp Arena\\nHarrodsburg Oktoberfest\\n\\nEvent and Restaurant Bartender                                                \\nNovember 2018-March 2020\\nHyatt Regency Lexington.                                                              Lexington, Kentucky\\n\\nProvided drink service to several upscale events along with working in the Hyttops Sports Bar as well as briefly in Bluefire Bar and Grill making sure to provide quality customer service in any atmosphere. Also performed several inventory and set up tasks as well as Serving as a banquet captain for several events.\\n\\nConcessions and Dining Hall Bartender\\nApril 4th, 2018-March 2020\\nKeeneland Hospitality                                                                    Lexington, Kentucky\\n\\nProvided drink service to thousands of guests, making sure bars were stocked and organized. Moved to different bars and register locations each day, and performed inventory tasks on liquor, mixers, and produce.  Also worked not only during the meet, but for the horse auctions as well.\\n\\nEvent Bartender\\nMarch 23, 2019-Present\\nDupree Catering                                                                             Lexington, Kentucky\\n\\nProvided drink service to guests, as well as setup and teardown of different bars at various locations around the state, such as Buffalo Trace, Limestone Hall, private farms, etc.\\n\\nOffice Admin                                                                                 \\nSeptember 2018-September 2019\\nFedex Ground                                                                                Lexington, Kentucky\\n\\nMajor Accomplishments\\n\\n\\nPromoted from Package Handler to Office Admin\\n\\nNight Manager                                                                                        \\nSeptember 2014-August 2018\\nBroadmoor Heights Car Care And Convenience                             Loveland, CO             \\n\\nMajor Accomplishments\\n\\n\\nLed a sales initiative to find lower prices on products raising the profit margin by 60%\\nRe-wrote checklists, inventory, and guide sheets to better help new employees fulfill tasks\\nExpanded the regular customer base by a large margin through leading with new standards of customer service and contributing to a friendly and helpful atmosphere\\nContributed to lowering the turnover rate by listening to employees concerns and helping to communicate complaints to the owner and to each other, effectively reducing the need for termination and resignation\\n\\nRoof Repairman                                                                                               \\nMay 2011- August 2018\\nSaville Roofing \\t\\t\\t\\t\\t\\t\\t        Loveland, CO\\n\\nSpecialized in leak repairs and large maintenance projects on commercial buildings and condominium associations; provided quality customer service to customers; gave detailed explanations of what problems were present\\n\\t\\nMajor Accomplishments\\n\\n\\nCompleted a large scale roofing and metal capping maintenance project for a condominium association in Boulder, Colorado involving detailed EPDM repair and metal work, along with use of chemicals and adhesives\\nCompleted a large scale waterproofing project in Boulder, Colorado involving detailed work with chemicals, adhesives, and polyurethane deck systems, in addition to calmly settling complaints by residents with quality customer service skills\\n\\nDiploma\\nLoveland Classical Schools, Loveland, CO                                                                    2011-2015\\n\\nGraduate\\nLexington Bartending School, Lexington, KY                                                                          2018\",\n",
      "        \"type\": \"word\",\n",
      "        \"file_path\": \"/Users/nicholasreese/Desktop/Georgetown/Capstone/NER_Modeling/Jonathan J Saville resume.docx\"\n",
      "    },\n",
      "    {\n",
      "        \"title\": \"Ashlyn Bellardine Resume 2024.docx\",\n",
      "        \"text\": \"\",\n",
      "        \"type\": \"word\",\n",
      "        \"file_path\": \"/Users/nicholasreese/Desktop/Georgetown/Capstone/NER_Modeling/Ashlyn Bellardine Resume 2024.docx\"\n",
      "    },\n",
      "    {\n",
      "        \"title\": \"Dezmond Richardson GU Q3.2024 Resume.docx.pdf\",\n",
      "        \"text\": \"D R\\nEZMOND ICHARDSON\\nddr34@georgetown.edu ▪ (817)401-5075 ▪ https://www.linkedin.com/in/dezrich2/\\nEDUCATION\\nGEORGETOWNUNIVERSITY,McDonoughSchoolofBusiness Washington,DC\\nMasterofScienceinBusinessAnalytics December2024\\nGEORGETOWNUNIVERSITY,GeorgetownSchoolofContinuingStudies Washington,DC\\nMasterofProfessionalStudiesinTechnologyManagement,EnterpriseAnalytics&Modernization December2019\\nGEORGETOWNUNIVERSITY,GeorgetownCollegeofArts&Science Washington,DC\\nBachelorofScienceinPsychology&Sociology;Minor:Theology May2016\\nTECHNICALSKILLS&CERTIFICATIONS\\n▪ ProgrammingSkills:SQL,Java,Python(Numpy,matplotlib,pandas,sklearn,vega-altai,plotly.pyr),R(ggplot2,dplyr,tidyr),Excel\\n▪ Certifications:DataProgramming,DataScientist(Python,R,andDataVisualization),AWSAcademyGraduate-AWS\\nAcademyCloudFoundations\\n▪ AdditionalSkills:Excel(PivotTables),SalesforceCRM,PredictiveAnalytics(dataminingandmodeling,database\\nmanagement),MachineLearning,JIRA,ETL(Extract/Transform/Load),MicrosoftSuites,MicrosoftPowerQuery,Visual\\nStudio,SQLServerManagementStudio,Slideshare,PowerPoint,AuditCompliance\\nRELEVANTEXPERIENCE\\nGEORGETOWNUNIVERSITY,OFFICEOFADVANCEMENT Washington,DC,USA\\nAssistantDirectorforDataAnalytics&Strategy(AnnualGiving) August2022–Current\\n▪ Performongoinganalysisandreportingforfundraisinginitiativesacross29VarsityProgramsandAnnualGivingteams\\nspanning5businessunits.\\n▪ Drivetheenhancementandoptimizationoffundraisingsystems,processes,reports,dashboards,anddatavisualizationtools\\nutilizingExcel,Salesforce,Tableau,andR(ggplot2).\\n▪ EstablishcomprehensivepoliciesandprocedurestoensureprioritizedandeffectivefulfillmentofAnnualGiving'sreportingand\\nanalyticsrequirements.\\nUTSOUTHWESTERNMEDICALCENTER,INFORMATIONRESOURCES Dallas,Tx,USA\\nSeniorDataAnalyst,Diversity,Equity,Inclusion(LeadDept.Analyst) May2023-July2023\\n▪ Leddatasteward,ensuring100%dataaccuracyandmitigatingaudit/datarisks.\\n▪ Efficientlymanagedanddeliveredprojects,maintainingadherencetotimelinesanddeliverables,resultingina15%increasein\\nprojectcompletionrate.Fosteredtransparentcommunicationthroughregularstatusreportstodepartmentalleadership.\\n▪ Coordinateddatasubmissiontothefederalgovernment,regulatoryagencies,andfundingorganizationswith100%compliance.\\nStreamlinedDEIdatamodeling,mapping,andarchitectureefforts,reducingrequestlifecycleby30%.\\nGEORGETOWNUNIVERSITY,OFFICEOFADVANCEMENT Washington,DC,USA\\nSeniorDataAnalyst,CRMGroupCoding(ConstituentRecordsDepartment) May2022–November2022\\n▪ ServedasthekeypointofcontactbetweenUniversityEventStaffandCvent,overseeinghundredsofeventsthatcollected\\nmillionsofdatapointsfromconstituentsannually.\\n▪ RegularlymanagedAPIintegrationsbetweeni-modules,Cvent,andSalesforce,ensuringaseamlessflowofconstituentdata.\\n▪ ImplementedefficientdataorganizationandcleansingprocessesusingSQL,Salesforce,andMulesoft'sDataLoaderfor\\nsignatureevents\\nDataAnalyst,CRM(ConstituentRecordsDepartment) July2018–April2022\\n▪ Providedefficienttroubleshootingandresolutionofsystemanddataintegrityinquiriesacrossmultiplechannelsincluding\\nG-chat,Email,Freshservice,SalesforceCRM,andphone.\\n▪ Ledthetrainingandmanagementofateamof5employeesforroutinedataintegrityprojectswithinSalesforceCRM,ensuring\\naccurateandreliabledata.\\n▪ Successfullyexecutedlarge-scaledataintegrityprojectsutilizingMulesoft'sDataLoadertool,impactingthousandsof\\nconstituentrecords\\nGEORGETOWNUNIVERSITYLAWCENTER,INFORMATIONSYSTEMSTECHNOLOGY Washington,DC,USA\\nTier1HelpDeskTechnician August2017–February2020\",\n",
      "        \"type\": \"pdf\",\n",
      "        \"file_path\": \"/Users/nicholasreese/Desktop/Georgetown/Capstone/NER_Modeling/Dezmond Richardson GU Q3.2024 Resume.docx.pdf\"\n",
      "    },\n",
      "    {\n",
      "        \"title\": \"Nicholas Reese Resume .docx\",\n",
      "        \"text\": \"Nicholas E. Reese\\nVan Ness, Washington D.C.\\n412-216-2398\\nNicholas.E.Reese15@gmail.com \\nEducation \\nGeorgetown University - August 2023 – December 2024\\nMaster of Science Business Analytics – MSBA candidate\\nPeer-Elected Class Representative \\nDickinson College - August 2014 – September 2018\\nEconomics & Political Science Double Major\\nVarsity Tennis Captain \\nUniversity of Bologna - August 2016\\nSkills\\nProfessional Experience\\nFINRA, Washington, D.C.\\tJune 2020 – Present \\nSenior Analyst, Market Regulation\\tSeptember 2022 – Present \\nEarned top 10% of performance of analysts for past two years.\\nLed team in research implementing PostgreSQL and NoSQL queries for large data pulls.\\nSpearheaded new analytical approaches to financial workflow with tools such as R & Python for model development.\\nDeveloped working predictive modeling schemas for senior staff using statistical analysis.\\nLeveraged skills in platforms like Python, R, Power BI, Tableau and SQL accompanied with strong statistical background in financial markets.\\nBuilt the Security-Based Swap training manual deck & produced the recorded info session for all of FINRA. \\nSelected for the FINRA’s first Georgetown Advanced Analytics Program as one of the most junior staff awarded opportunity.\\nIncorporated statistical analytics to assist in creating a NPL tool to analyze financial documents language to minimize time on manual analysis.\\nProduced unsupervised and supervised models to perform analysis for Security-Based Swaps trade patterns.\\nImproved FINRA platforms with Data Scientists for higher accuracy and efficiency. \\nManaged process of re-engineering supervisory reviews through advanced analytic tools for senior staff.\\nImplements advanced analytics to assist senior staff with maximizing efficiencies in daily workloads and trade pattern creations.\\nPresented visualization case work using Power BI & Tableau to senior leadership.\\nPersuaded senior staff to allow for statistical analytics tools like R.\\nMentored over 20 junior & senior staff members on improving processes with analytical tools for financial reviews.\\nManaged junior staff with day-to-day workload while teaching the staff how to use advanced analytics.\\nAnalyst, Market Regulation\\tJune 2021-September 2022\\nCreated macroeconomic models for newly implemented FINRA Rule 2232 and MSRB Rule G-15.\\nMentored junior staff with creating macro models, synthesizing responses from FINRA member firms.\\nWon the Regulator Scholarship for continued financial learning based on individual performance.\\nReceived six internal awards for expertise in Municipal and Corporate Bond analysis as an analyst.\\nAssociate Analyst, Market Regulation\\tJune 2020 – June 2021\\nCreated macroeconomic models to quantify business models of selected firms for FINRA Rule 2232.\\n             BNY Mellon, Pittsburgh, PA\\t\\t\\t\\t\\t\\t                 September 2019 – June 2020\\nCorporate Trust Associate\\nLeader & instructor of the Bloomberg software for the Corporate Trust Team.\\nLendingHome, Internship, Pittsburgh, PA\\nFunding Specialist & Post Closing Member\\tMarch 2019 – August 2019\\nReviewed closing documents to ensure precise execution for funding staff.\\n              Veraction/Trax, Junior Business Analyst, Memphis, TN\\t                                                      June 2016 - August 2016\\nLed the creation, development, and implementation of Request For Proposal (RFP) database.\",\n",
      "        \"type\": \"word\",\n",
      "        \"file_path\": \"/Users/nicholasreese/Desktop/Georgetown/Capstone/NER_Modeling/Nicholas Reese Resume .docx\"\n",
      "    }\n",
      "]\n",
      "Added .docx: Nicholas Reese Resume .docx\n"
     ]
    }
   ],
   "source": [
    "def convert_files_to_json(folder_path, output_json_file):\n",
    "    corpus = []\n",
    "    \n",
    "    for filename in os.listdir(folder_path):\n",
    "        file_path = os.path.join(folder_path, filename)\n",
    "        \n",
    "        if filename.endswith('.docx'):\n",
    "            doc = Document(file_path)\n",
    "            text = '\\n'.join([para.text for para in doc.paragraphs])\n",
    "            document_data = {\n",
    "                'title': filename,\n",
    "                'text': text, \n",
    "                'type': 'word',\n",
    "                'file_path': file_path\n",
    "            }\n",
    "            corpus.append(document_data)\n",
    "            print(json.dumps(corpus, ensure_ascii=False, indent=4))\n",
    "            print(f\"Added .docx: {filename}\") \n",
    "        \n",
    "        elif filename.endswith('pdf'):\n",
    "            with pdfplumber.open(file_path) as pdf:\n",
    "                text = '\\n'.join([page.extract_text() for page in pdf.pages if page.extract_text()])\n",
    "                document_data = {\n",
    "                    'title': filename, \n",
    "                    'text': text,\n",
    "                    'type': 'pdf',\n",
    "                    'file_path': file_path\n",
    "                }\n",
    "                corpus.append(document_data)\n",
    "                print(f\"Added .pdf: {filename}\")\n",
    "                \n",
    "    with open(output_json_file, 'w', encoding= 'utf-8') as json_file:\n",
    "        json.dump(corpus, json_file, ensure_ascii = False, indent = 4)\n",
    "        \n",
    "convert_files_to_json('/Users/nicholasreese/Desktop/Georgetown/Capstone/NER_Modeling', 'output_corpus.join')\n",
    "\n",
    "# change your file path to where you saved the resumes"
   ]
  },
  {
   "cell_type": "code",
   "execution_count": 3,
   "id": "7e27ad29",
   "metadata": {},
   "outputs": [],
   "source": [
    "resumes = pd.read_json('output_json_file')"
   ]
  },
  {
   "cell_type": "code",
   "execution_count": 4,
   "id": "cad79171",
   "metadata": {
    "scrolled": true
   },
   "outputs": [
    {
     "data": {
      "text/html": [
       "<div>\n",
       "<style scoped>\n",
       "    .dataframe tbody tr th:only-of-type {\n",
       "        vertical-align: middle;\n",
       "    }\n",
       "\n",
       "    .dataframe tbody tr th {\n",
       "        vertical-align: top;\n",
       "    }\n",
       "\n",
       "    .dataframe thead th {\n",
       "        text-align: right;\n",
       "    }\n",
       "</style>\n",
       "<table border=\"1\" class=\"dataframe\">\n",
       "  <thead>\n",
       "    <tr style=\"text-align: right;\">\n",
       "      <th></th>\n",
       "      <th>title</th>\n",
       "      <th>text</th>\n",
       "      <th>type</th>\n",
       "    </tr>\n",
       "  </thead>\n",
       "  <tbody>\n",
       "    <tr>\n",
       "      <th>0</th>\n",
       "      <td>Genesis Roberto 2024 Resume.docx</td>\n",
       "      <td>Ms. Genesis U. Roberto \\n     Rockville, MD   ...</td>\n",
       "      <td>word</td>\n",
       "    </tr>\n",
       "    <tr>\n",
       "      <th>1</th>\n",
       "      <td>Jonathan J Saville resume.docx</td>\n",
       "      <td>Jonathan J Saville\\n503 Edwards Ave, Apt #7   ...</td>\n",
       "      <td>word</td>\n",
       "    </tr>\n",
       "    <tr>\n",
       "      <th>2</th>\n",
       "      <td>Dezmond Richardson GU Q3.2024 Resume.docx.pdf</td>\n",
       "      <td>D R\\nEZMOND ICHARDSON\\nddr34@georgetown.edu ▪ ...</td>\n",
       "      <td>pdf</td>\n",
       "    </tr>\n",
       "    <tr>\n",
       "      <th>3</th>\n",
       "      <td>Nicholas Reese Resume .docx</td>\n",
       "      <td>Nicholas E. Reese\\nVan Ness, Washington D.C.\\n...</td>\n",
       "      <td>word</td>\n",
       "    </tr>\n",
       "  </tbody>\n",
       "</table>\n",
       "</div>"
      ],
      "text/plain": [
       "                                           title  \\\n",
       "0               Genesis Roberto 2024 Resume.docx   \n",
       "1                 Jonathan J Saville resume.docx   \n",
       "2  Dezmond Richardson GU Q3.2024 Resume.docx.pdf   \n",
       "3                    Nicholas Reese Resume .docx   \n",
       "\n",
       "                                                text  type  \n",
       "0  Ms. Genesis U. Roberto \\n     Rockville, MD   ...  word  \n",
       "1  Jonathan J Saville\\n503 Edwards Ave, Apt #7   ...  word  \n",
       "2  D R\\nEZMOND ICHARDSON\\nddr34@georgetown.edu ▪ ...   pdf  \n",
       "3  Nicholas E. Reese\\nVan Ness, Washington D.C.\\n...  word  "
      ]
     },
     "execution_count": 4,
     "metadata": {},
     "output_type": "execute_result"
    }
   ],
   "source": [
    "resumes"
   ]
  },
  {
   "cell_type": "markdown",
   "id": "5d6f2b85",
   "metadata": {},
   "source": [
    "Ashlyn's resume doesnt work because it is not a UTF-8 string. I think its because all of her paragraphs in her resume are in tables or textboxes. I saw something similar when the function did not pick up my table in my resume. "
   ]
  },
  {
   "cell_type": "markdown",
   "id": "7a79446c",
   "metadata": {},
   "source": [
    "***"
   ]
  },
  {
   "cell_type": "code",
   "execution_count": 5,
   "id": "e26fab23",
   "metadata": {},
   "outputs": [],
   "source": [
    "from nltk.tokenize import word_tokenize\n",
    "from nltk.tokenize import sent_tokenize"
   ]
  },
  {
   "cell_type": "code",
   "execution_count": 6,
   "id": "76d0d709",
   "metadata": {},
   "outputs": [],
   "source": [
    "### Converting All Text to lower case\n",
    "\n",
    "resumes['text'] = resumes['text'].str.lower()"
   ]
  },
  {
   "cell_type": "code",
   "execution_count": 7,
   "id": "ebc77b99",
   "metadata": {},
   "outputs": [
    {
     "data": {
      "text/html": [
       "<div>\n",
       "<style scoped>\n",
       "    .dataframe tbody tr th:only-of-type {\n",
       "        vertical-align: middle;\n",
       "    }\n",
       "\n",
       "    .dataframe tbody tr th {\n",
       "        vertical-align: top;\n",
       "    }\n",
       "\n",
       "    .dataframe thead th {\n",
       "        text-align: right;\n",
       "    }\n",
       "</style>\n",
       "<table border=\"1\" class=\"dataframe\">\n",
       "  <thead>\n",
       "    <tr style=\"text-align: right;\">\n",
       "      <th></th>\n",
       "      <th>title</th>\n",
       "      <th>text</th>\n",
       "      <th>type</th>\n",
       "    </tr>\n",
       "  </thead>\n",
       "  <tbody>\n",
       "    <tr>\n",
       "      <th>0</th>\n",
       "      <td>Genesis Roberto 2024 Resume.docx</td>\n",
       "      <td>ms. genesis u. roberto \\n     rockville, md   ...</td>\n",
       "      <td>word</td>\n",
       "    </tr>\n",
       "    <tr>\n",
       "      <th>1</th>\n",
       "      <td>Jonathan J Saville resume.docx</td>\n",
       "      <td>jonathan j saville\\n503 edwards ave, apt #7   ...</td>\n",
       "      <td>word</td>\n",
       "    </tr>\n",
       "    <tr>\n",
       "      <th>2</th>\n",
       "      <td>Dezmond Richardson GU Q3.2024 Resume.docx.pdf</td>\n",
       "      <td>d r\\nezmond ichardson\\nddr34@georgetown.edu ▪ ...</td>\n",
       "      <td>pdf</td>\n",
       "    </tr>\n",
       "    <tr>\n",
       "      <th>3</th>\n",
       "      <td>Nicholas Reese Resume .docx</td>\n",
       "      <td>nicholas e. reese\\nvan ness, washington d.c.\\n...</td>\n",
       "      <td>word</td>\n",
       "    </tr>\n",
       "  </tbody>\n",
       "</table>\n",
       "</div>"
      ],
      "text/plain": [
       "                                           title  \\\n",
       "0               Genesis Roberto 2024 Resume.docx   \n",
       "1                 Jonathan J Saville resume.docx   \n",
       "2  Dezmond Richardson GU Q3.2024 Resume.docx.pdf   \n",
       "3                    Nicholas Reese Resume .docx   \n",
       "\n",
       "                                                text  type  \n",
       "0  ms. genesis u. roberto \\n     rockville, md   ...  word  \n",
       "1  jonathan j saville\\n503 edwards ave, apt #7   ...  word  \n",
       "2  d r\\nezmond ichardson\\nddr34@georgetown.edu ▪ ...   pdf  \n",
       "3  nicholas e. reese\\nvan ness, washington d.c.\\n...  word  "
      ]
     },
     "execution_count": 7,
     "metadata": {},
     "output_type": "execute_result"
    }
   ],
   "source": [
    "resumes"
   ]
  },
  {
   "cell_type": "code",
   "execution_count": 8,
   "id": "fc0ac16a",
   "metadata": {},
   "outputs": [],
   "source": [
    "resumes_values = [f'res{i + 1}' for i in range(len(resumes))]"
   ]
  },
  {
   "cell_type": "code",
   "execution_count": 9,
   "id": "ff25b3d0",
   "metadata": {},
   "outputs": [],
   "source": [
    "resumes.insert(0, 'resume', resumes_values)"
   ]
  },
  {
   "cell_type": "code",
   "execution_count": 10,
   "id": "ad55a7f5",
   "metadata": {},
   "outputs": [
    {
     "data": {
      "text/html": [
       "<div>\n",
       "<style scoped>\n",
       "    .dataframe tbody tr th:only-of-type {\n",
       "        vertical-align: middle;\n",
       "    }\n",
       "\n",
       "    .dataframe tbody tr th {\n",
       "        vertical-align: top;\n",
       "    }\n",
       "\n",
       "    .dataframe thead th {\n",
       "        text-align: right;\n",
       "    }\n",
       "</style>\n",
       "<table border=\"1\" class=\"dataframe\">\n",
       "  <thead>\n",
       "    <tr style=\"text-align: right;\">\n",
       "      <th></th>\n",
       "      <th>resume</th>\n",
       "      <th>title</th>\n",
       "      <th>text</th>\n",
       "      <th>type</th>\n",
       "    </tr>\n",
       "  </thead>\n",
       "  <tbody>\n",
       "    <tr>\n",
       "      <th>0</th>\n",
       "      <td>res1</td>\n",
       "      <td>Genesis Roberto 2024 Resume.docx</td>\n",
       "      <td>ms. genesis u. roberto \\n     rockville, md   ...</td>\n",
       "      <td>word</td>\n",
       "    </tr>\n",
       "    <tr>\n",
       "      <th>1</th>\n",
       "      <td>res2</td>\n",
       "      <td>Jonathan J Saville resume.docx</td>\n",
       "      <td>jonathan j saville\\n503 edwards ave, apt #7   ...</td>\n",
       "      <td>word</td>\n",
       "    </tr>\n",
       "    <tr>\n",
       "      <th>2</th>\n",
       "      <td>res3</td>\n",
       "      <td>Dezmond Richardson GU Q3.2024 Resume.docx.pdf</td>\n",
       "      <td>d r\\nezmond ichardson\\nddr34@georgetown.edu ▪ ...</td>\n",
       "      <td>pdf</td>\n",
       "    </tr>\n",
       "    <tr>\n",
       "      <th>3</th>\n",
       "      <td>res4</td>\n",
       "      <td>Nicholas Reese Resume .docx</td>\n",
       "      <td>nicholas e. reese\\nvan ness, washington d.c.\\n...</td>\n",
       "      <td>word</td>\n",
       "    </tr>\n",
       "  </tbody>\n",
       "</table>\n",
       "</div>"
      ],
      "text/plain": [
       "  resume                                          title  \\\n",
       "0   res1               Genesis Roberto 2024 Resume.docx   \n",
       "1   res2                 Jonathan J Saville resume.docx   \n",
       "2   res3  Dezmond Richardson GU Q3.2024 Resume.docx.pdf   \n",
       "3   res4                    Nicholas Reese Resume .docx   \n",
       "\n",
       "                                                text  type  \n",
       "0  ms. genesis u. roberto \\n     rockville, md   ...  word  \n",
       "1  jonathan j saville\\n503 edwards ave, apt #7   ...  word  \n",
       "2  d r\\nezmond ichardson\\nddr34@georgetown.edu ▪ ...   pdf  \n",
       "3  nicholas e. reese\\nvan ness, washington d.c.\\n...  word  "
      ]
     },
     "execution_count": 10,
     "metadata": {},
     "output_type": "execute_result"
    }
   ],
   "source": [
    "resumes"
   ]
  },
  {
   "cell_type": "code",
   "execution_count": 11,
   "id": "dadf6023",
   "metadata": {},
   "outputs": [],
   "source": [
    "vec = CountVectorizer()"
   ]
  },
  {
   "cell_type": "code",
   "execution_count": 12,
   "id": "db514f07",
   "metadata": {},
   "outputs": [],
   "source": [
    "resumes_vec = vec.fit_transform(resumes['text'])"
   ]
  },
  {
   "cell_type": "code",
   "execution_count": 13,
   "id": "e58a3088",
   "metadata": {},
   "outputs": [],
   "source": [
    "#print(resumes_vec)"
   ]
  },
  {
   "cell_type": "code",
   "execution_count": 14,
   "id": "a3ab317b",
   "metadata": {},
   "outputs": [],
   "source": [
    "resumes_vec_dense = pd.DataFrame(resumes_vec.todense(),\n",
    "                                columns = vec.get_feature_names_out(),\n",
    "                                index = resumes['resume'])"
   ]
  },
  {
   "cell_type": "code",
   "execution_count": 15,
   "id": "bc3c94a0",
   "metadata": {},
   "outputs": [
    {
     "name": "stdout",
     "output_type": "stream",
     "text": [
      "        10  12m  15  180m  19m  20  2010  2011  2014  2015  ...  workload  \\\n",
      "resume                                                      ...             \n",
      "res1     0    1   2     1    1   1     1     2     0     2  ...         0   \n",
      "res2     0    0   0     0    0   0     0     2     1     1  ...         0   \n",
      "res3     0    0   0     0    0   0     0     0     0     0  ...         0   \n",
      "res4     1    0   1     0    0   1     0     0     1     0  ...         1   \n",
      "\n",
      "        workloads  writer  writing  wrote  www  year  years  yellow  young  \n",
      "resume                                                                      \n",
      "res1            0       1        1      0    0     5      0       1      2  \n",
      "res2            0       0        0      1    0     1      0       0      0  \n",
      "res3            0       0        0      0    1     0      0       0      0  \n",
      "res4            1       0        0      0    0     0      1       0      0  \n",
      "\n",
      "[4 rows x 1049 columns]\n"
     ]
    }
   ],
   "source": [
    "print(resumes_vec_dense)"
   ]
  },
  {
   "cell_type": "code",
   "execution_count": 16,
   "id": "dd8688ed",
   "metadata": {},
   "outputs": [
    {
     "name": "stdout",
     "output_type": "stream",
     "text": [
      "Number of Resumes: 4\n"
     ]
    }
   ],
   "source": [
    "print(f\"Number of Resumes: {resumes_vec_dense.shape[0]}\")"
   ]
  },
  {
   "cell_type": "code",
   "execution_count": 17,
   "id": "689c4667",
   "metadata": {},
   "outputs": [
    {
     "name": "stdout",
     "output_type": "stream",
     "text": [
      " Number of terms: 1049\n"
     ]
    }
   ],
   "source": [
    "print(f\" Number of terms: {resumes_vec_dense.shape[1]}\")"
   ]
  },
  {
   "cell_type": "markdown",
   "id": "f29bf258",
   "metadata": {},
   "source": [
    "***"
   ]
  },
  {
   "cell_type": "markdown",
   "id": "61e997de",
   "metadata": {},
   "source": [
    "## Bag of Words for Resumes"
   ]
  },
  {
   "cell_type": "code",
   "execution_count": 18,
   "id": "7cddf97f",
   "metadata": {},
   "outputs": [],
   "source": [
    "resumes_vec2 = vec.fit_transform(resumes['text'])"
   ]
  },
  {
   "cell_type": "code",
   "execution_count": 19,
   "id": "0df35f4c",
   "metadata": {},
   "outputs": [],
   "source": [
    "resumes_vec2 = pd.DataFrame(resumes_vec2.todense(),\n",
    "                           columns = vec.get_feature_names_out())"
   ]
  },
  {
   "cell_type": "code",
   "execution_count": 20,
   "id": "63c08f69",
   "metadata": {},
   "outputs": [],
   "source": [
    "resumes_cat = pd.concat([resumes[['resume']], resumes_vec2], axis = 1)"
   ]
  },
  {
   "cell_type": "code",
   "execution_count": 21,
   "id": "df9e2aba",
   "metadata": {},
   "outputs": [
    {
     "data": {
      "text/html": [
       "<div>\n",
       "<style scoped>\n",
       "    .dataframe tbody tr th:only-of-type {\n",
       "        vertical-align: middle;\n",
       "    }\n",
       "\n",
       "    .dataframe tbody tr th {\n",
       "        vertical-align: top;\n",
       "    }\n",
       "\n",
       "    .dataframe thead th {\n",
       "        text-align: right;\n",
       "    }\n",
       "</style>\n",
       "<table border=\"1\" class=\"dataframe\">\n",
       "  <thead>\n",
       "    <tr style=\"text-align: right;\">\n",
       "      <th></th>\n",
       "      <th>resume</th>\n",
       "      <th>10</th>\n",
       "      <th>12m</th>\n",
       "      <th>15</th>\n",
       "      <th>180m</th>\n",
       "      <th>19m</th>\n",
       "      <th>20</th>\n",
       "      <th>2010</th>\n",
       "      <th>2011</th>\n",
       "      <th>2014</th>\n",
       "      <th>...</th>\n",
       "      <th>workload</th>\n",
       "      <th>workloads</th>\n",
       "      <th>writer</th>\n",
       "      <th>writing</th>\n",
       "      <th>wrote</th>\n",
       "      <th>www</th>\n",
       "      <th>year</th>\n",
       "      <th>years</th>\n",
       "      <th>yellow</th>\n",
       "      <th>young</th>\n",
       "    </tr>\n",
       "  </thead>\n",
       "  <tbody>\n",
       "    <tr>\n",
       "      <th>0</th>\n",
       "      <td>res1</td>\n",
       "      <td>0</td>\n",
       "      <td>1</td>\n",
       "      <td>2</td>\n",
       "      <td>1</td>\n",
       "      <td>1</td>\n",
       "      <td>1</td>\n",
       "      <td>1</td>\n",
       "      <td>2</td>\n",
       "      <td>0</td>\n",
       "      <td>...</td>\n",
       "      <td>0</td>\n",
       "      <td>0</td>\n",
       "      <td>1</td>\n",
       "      <td>1</td>\n",
       "      <td>0</td>\n",
       "      <td>0</td>\n",
       "      <td>5</td>\n",
       "      <td>0</td>\n",
       "      <td>1</td>\n",
       "      <td>2</td>\n",
       "    </tr>\n",
       "    <tr>\n",
       "      <th>1</th>\n",
       "      <td>res2</td>\n",
       "      <td>0</td>\n",
       "      <td>0</td>\n",
       "      <td>0</td>\n",
       "      <td>0</td>\n",
       "      <td>0</td>\n",
       "      <td>0</td>\n",
       "      <td>0</td>\n",
       "      <td>2</td>\n",
       "      <td>1</td>\n",
       "      <td>...</td>\n",
       "      <td>0</td>\n",
       "      <td>0</td>\n",
       "      <td>0</td>\n",
       "      <td>0</td>\n",
       "      <td>1</td>\n",
       "      <td>0</td>\n",
       "      <td>1</td>\n",
       "      <td>0</td>\n",
       "      <td>0</td>\n",
       "      <td>0</td>\n",
       "    </tr>\n",
       "    <tr>\n",
       "      <th>2</th>\n",
       "      <td>res3</td>\n",
       "      <td>0</td>\n",
       "      <td>0</td>\n",
       "      <td>0</td>\n",
       "      <td>0</td>\n",
       "      <td>0</td>\n",
       "      <td>0</td>\n",
       "      <td>0</td>\n",
       "      <td>0</td>\n",
       "      <td>0</td>\n",
       "      <td>...</td>\n",
       "      <td>0</td>\n",
       "      <td>0</td>\n",
       "      <td>0</td>\n",
       "      <td>0</td>\n",
       "      <td>0</td>\n",
       "      <td>1</td>\n",
       "      <td>0</td>\n",
       "      <td>0</td>\n",
       "      <td>0</td>\n",
       "      <td>0</td>\n",
       "    </tr>\n",
       "    <tr>\n",
       "      <th>3</th>\n",
       "      <td>res4</td>\n",
       "      <td>1</td>\n",
       "      <td>0</td>\n",
       "      <td>1</td>\n",
       "      <td>0</td>\n",
       "      <td>0</td>\n",
       "      <td>1</td>\n",
       "      <td>0</td>\n",
       "      <td>0</td>\n",
       "      <td>1</td>\n",
       "      <td>...</td>\n",
       "      <td>1</td>\n",
       "      <td>1</td>\n",
       "      <td>0</td>\n",
       "      <td>0</td>\n",
       "      <td>0</td>\n",
       "      <td>0</td>\n",
       "      <td>0</td>\n",
       "      <td>1</td>\n",
       "      <td>0</td>\n",
       "      <td>0</td>\n",
       "    </tr>\n",
       "  </tbody>\n",
       "</table>\n",
       "<p>4 rows × 1050 columns</p>\n",
       "</div>"
      ],
      "text/plain": [
       "  resume  10  12m  15  180m  19m  20  2010  2011  2014  ...  workload  \\\n",
       "0   res1   0    1   2     1    1   1     1     2     0  ...         0   \n",
       "1   res2   0    0   0     0    0   0     0     2     1  ...         0   \n",
       "2   res3   0    0   0     0    0   0     0     0     0  ...         0   \n",
       "3   res4   1    0   1     0    0   1     0     0     1  ...         1   \n",
       "\n",
       "   workloads  writer  writing  wrote  www  year  years  yellow  young  \n",
       "0          0       1        1      0    0     5      0       1      2  \n",
       "1          0       0        0      1    0     1      0       0      0  \n",
       "2          0       0        0      0    1     0      0       0      0  \n",
       "3          1       0        0      0    0     0      1       0      0  \n",
       "\n",
       "[4 rows x 1050 columns]"
      ]
     },
     "execution_count": 21,
     "metadata": {},
     "output_type": "execute_result"
    }
   ],
   "source": [
    "resumes_cat"
   ]
  },
  {
   "cell_type": "markdown",
   "id": "bbed9e17",
   "metadata": {},
   "source": [
    "***"
   ]
  },
  {
   "cell_type": "markdown",
   "id": "a2f9569c",
   "metadata": {},
   "source": [
    "## TD - IDF\n",
    "\n",
    "finding the TD-IDF scores of unique words "
   ]
  },
  {
   "cell_type": "code",
   "execution_count": 22,
   "id": "5447b670",
   "metadata": {},
   "outputs": [],
   "source": [
    "from sklearn.feature_extraction.text import TfidfVectorizer"
   ]
  },
  {
   "cell_type": "code",
   "execution_count": 23,
   "id": "9e35b202",
   "metadata": {},
   "outputs": [],
   "source": [
    "tvec = TfidfVectorizer(stop_words = 'english')"
   ]
  },
  {
   "cell_type": "code",
   "execution_count": 24,
   "id": "8b07309c",
   "metadata": {},
   "outputs": [],
   "source": [
    "resume_vec = tvec.fit_transform(resumes['text'])"
   ]
  },
  {
   "cell_type": "code",
   "execution_count": 25,
   "id": "010da7c6",
   "metadata": {},
   "outputs": [],
   "source": [
    "resumes_tvec = pd.DataFrame(resume_vec.todense(),\n",
    "                           columns = tvec.get_feature_names_out())"
   ]
  },
  {
   "cell_type": "code",
   "execution_count": 26,
   "id": "24e81107",
   "metadata": {},
   "outputs": [
    {
     "data": {
      "text/html": [
       "<div>\n",
       "<style scoped>\n",
       "    .dataframe tbody tr th:only-of-type {\n",
       "        vertical-align: middle;\n",
       "    }\n",
       "\n",
       "    .dataframe tbody tr th {\n",
       "        vertical-align: top;\n",
       "    }\n",
       "\n",
       "    .dataframe thead th {\n",
       "        text-align: right;\n",
       "    }\n",
       "</style>\n",
       "<table border=\"1\" class=\"dataframe\">\n",
       "  <thead>\n",
       "    <tr style=\"text-align: right;\">\n",
       "      <th></th>\n",
       "      <th>10</th>\n",
       "      <th>12m</th>\n",
       "      <th>15</th>\n",
       "      <th>180m</th>\n",
       "      <th>19m</th>\n",
       "      <th>20</th>\n",
       "      <th>2010</th>\n",
       "      <th>2011</th>\n",
       "      <th>2014</th>\n",
       "      <th>2015</th>\n",
       "      <th>...</th>\n",
       "      <th>workload</th>\n",
       "      <th>workloads</th>\n",
       "      <th>writer</th>\n",
       "      <th>writing</th>\n",
       "      <th>wrote</th>\n",
       "      <th>www</th>\n",
       "      <th>year</th>\n",
       "      <th>years</th>\n",
       "      <th>yellow</th>\n",
       "      <th>young</th>\n",
       "    </tr>\n",
       "  </thead>\n",
       "  <tbody>\n",
       "    <tr>\n",
       "      <th>0</th>\n",
       "      <td>0.000000</td>\n",
       "      <td>0.017635</td>\n",
       "      <td>0.027807</td>\n",
       "      <td>0.017635</td>\n",
       "      <td>0.017635</td>\n",
       "      <td>0.013903</td>\n",
       "      <td>0.017635</td>\n",
       "      <td>0.027807</td>\n",
       "      <td>0.000000</td>\n",
       "      <td>0.027807</td>\n",
       "      <td>...</td>\n",
       "      <td>0.000000</td>\n",
       "      <td>0.000000</td>\n",
       "      <td>0.017635</td>\n",
       "      <td>0.017635</td>\n",
       "      <td>0.00000</td>\n",
       "      <td>0.000000</td>\n",
       "      <td>0.069517</td>\n",
       "      <td>0.000000</td>\n",
       "      <td>0.017635</td>\n",
       "      <td>0.035269</td>\n",
       "    </tr>\n",
       "    <tr>\n",
       "      <th>1</th>\n",
       "      <td>0.000000</td>\n",
       "      <td>0.000000</td>\n",
       "      <td>0.000000</td>\n",
       "      <td>0.000000</td>\n",
       "      <td>0.000000</td>\n",
       "      <td>0.000000</td>\n",
       "      <td>0.000000</td>\n",
       "      <td>0.054433</td>\n",
       "      <td>0.027216</td>\n",
       "      <td>0.027216</td>\n",
       "      <td>...</td>\n",
       "      <td>0.000000</td>\n",
       "      <td>0.000000</td>\n",
       "      <td>0.000000</td>\n",
       "      <td>0.000000</td>\n",
       "      <td>0.03452</td>\n",
       "      <td>0.000000</td>\n",
       "      <td>0.027216</td>\n",
       "      <td>0.000000</td>\n",
       "      <td>0.000000</td>\n",
       "      <td>0.000000</td>\n",
       "    </tr>\n",
       "    <tr>\n",
       "      <th>2</th>\n",
       "      <td>0.000000</td>\n",
       "      <td>0.000000</td>\n",
       "      <td>0.000000</td>\n",
       "      <td>0.000000</td>\n",
       "      <td>0.000000</td>\n",
       "      <td>0.000000</td>\n",
       "      <td>0.000000</td>\n",
       "      <td>0.000000</td>\n",
       "      <td>0.000000</td>\n",
       "      <td>0.000000</td>\n",
       "      <td>...</td>\n",
       "      <td>0.000000</td>\n",
       "      <td>0.000000</td>\n",
       "      <td>0.000000</td>\n",
       "      <td>0.000000</td>\n",
       "      <td>0.00000</td>\n",
       "      <td>0.062267</td>\n",
       "      <td>0.000000</td>\n",
       "      <td>0.000000</td>\n",
       "      <td>0.000000</td>\n",
       "      <td>0.000000</td>\n",
       "    </tr>\n",
       "    <tr>\n",
       "      <th>3</th>\n",
       "      <td>0.038345</td>\n",
       "      <td>0.000000</td>\n",
       "      <td>0.030231</td>\n",
       "      <td>0.000000</td>\n",
       "      <td>0.000000</td>\n",
       "      <td>0.030231</td>\n",
       "      <td>0.000000</td>\n",
       "      <td>0.000000</td>\n",
       "      <td>0.030231</td>\n",
       "      <td>0.000000</td>\n",
       "      <td>...</td>\n",
       "      <td>0.038345</td>\n",
       "      <td>0.038345</td>\n",
       "      <td>0.000000</td>\n",
       "      <td>0.000000</td>\n",
       "      <td>0.00000</td>\n",
       "      <td>0.000000</td>\n",
       "      <td>0.000000</td>\n",
       "      <td>0.038345</td>\n",
       "      <td>0.000000</td>\n",
       "      <td>0.000000</td>\n",
       "    </tr>\n",
       "  </tbody>\n",
       "</table>\n",
       "<p>4 rows × 988 columns</p>\n",
       "</div>"
      ],
      "text/plain": [
       "         10       12m        15      180m       19m        20      2010  \\\n",
       "0  0.000000  0.017635  0.027807  0.017635  0.017635  0.013903  0.017635   \n",
       "1  0.000000  0.000000  0.000000  0.000000  0.000000  0.000000  0.000000   \n",
       "2  0.000000  0.000000  0.000000  0.000000  0.000000  0.000000  0.000000   \n",
       "3  0.038345  0.000000  0.030231  0.000000  0.000000  0.030231  0.000000   \n",
       "\n",
       "       2011      2014      2015  ...  workload  workloads    writer   writing  \\\n",
       "0  0.027807  0.000000  0.027807  ...  0.000000   0.000000  0.017635  0.017635   \n",
       "1  0.054433  0.027216  0.027216  ...  0.000000   0.000000  0.000000  0.000000   \n",
       "2  0.000000  0.000000  0.000000  ...  0.000000   0.000000  0.000000  0.000000   \n",
       "3  0.000000  0.030231  0.000000  ...  0.038345   0.038345  0.000000  0.000000   \n",
       "\n",
       "     wrote       www      year     years    yellow     young  \n",
       "0  0.00000  0.000000  0.069517  0.000000  0.017635  0.035269  \n",
       "1  0.03452  0.000000  0.027216  0.000000  0.000000  0.000000  \n",
       "2  0.00000  0.062267  0.000000  0.000000  0.000000  0.000000  \n",
       "3  0.00000  0.000000  0.000000  0.038345  0.000000  0.000000  \n",
       "\n",
       "[4 rows x 988 columns]"
      ]
     },
     "execution_count": 26,
     "metadata": {},
     "output_type": "execute_result"
    }
   ],
   "source": [
    "resumes_tvec"
   ]
  },
  {
   "cell_type": "markdown",
   "id": "5117175a",
   "metadata": {},
   "source": [
    "***"
   ]
  },
  {
   "cell_type": "markdown",
   "id": "b2602c5c",
   "metadata": {},
   "source": [
    "## Adding Bag of N-grams\n",
    "\n",
    "This might help us because we may need word associations that could better filter the pairing of words"
   ]
  },
  {
   "cell_type": "code",
   "execution_count": 27,
   "id": "596fed32",
   "metadata": {},
   "outputs": [],
   "source": [
    "vec_2 = CountVectorizer(ngram_range = (1,2))"
   ]
  },
  {
   "cell_type": "code",
   "execution_count": 28,
   "id": "bc986e85",
   "metadata": {},
   "outputs": [],
   "source": [
    "resume_vec2 = vec.fit_transform(resumes['text'])"
   ]
  },
  {
   "cell_type": "code",
   "execution_count": 29,
   "id": "8293a04e",
   "metadata": {},
   "outputs": [],
   "source": [
    "resume_vec2 = pd.DataFrame(resume_vec2.todense(),\n",
    "                          columns = vec.get_feature_names_out())"
   ]
  },
  {
   "cell_type": "code",
   "execution_count": 30,
   "id": "53e66888",
   "metadata": {},
   "outputs": [
    {
     "data": {
      "text/html": [
       "<div>\n",
       "<style scoped>\n",
       "    .dataframe tbody tr th:only-of-type {\n",
       "        vertical-align: middle;\n",
       "    }\n",
       "\n",
       "    .dataframe tbody tr th {\n",
       "        vertical-align: top;\n",
       "    }\n",
       "\n",
       "    .dataframe thead th {\n",
       "        text-align: right;\n",
       "    }\n",
       "</style>\n",
       "<table border=\"1\" class=\"dataframe\">\n",
       "  <thead>\n",
       "    <tr style=\"text-align: right;\">\n",
       "      <th></th>\n",
       "      <th>10</th>\n",
       "      <th>12m</th>\n",
       "      <th>15</th>\n",
       "      <th>180m</th>\n",
       "      <th>19m</th>\n",
       "      <th>20</th>\n",
       "      <th>2010</th>\n",
       "      <th>2011</th>\n",
       "      <th>2014</th>\n",
       "      <th>2015</th>\n",
       "      <th>...</th>\n",
       "      <th>workload</th>\n",
       "      <th>workloads</th>\n",
       "      <th>writer</th>\n",
       "      <th>writing</th>\n",
       "      <th>wrote</th>\n",
       "      <th>www</th>\n",
       "      <th>year</th>\n",
       "      <th>years</th>\n",
       "      <th>yellow</th>\n",
       "      <th>young</th>\n",
       "    </tr>\n",
       "  </thead>\n",
       "  <tbody>\n",
       "    <tr>\n",
       "      <th>0</th>\n",
       "      <td>0</td>\n",
       "      <td>1</td>\n",
       "      <td>2</td>\n",
       "      <td>1</td>\n",
       "      <td>1</td>\n",
       "      <td>1</td>\n",
       "      <td>1</td>\n",
       "      <td>2</td>\n",
       "      <td>0</td>\n",
       "      <td>2</td>\n",
       "      <td>...</td>\n",
       "      <td>0</td>\n",
       "      <td>0</td>\n",
       "      <td>1</td>\n",
       "      <td>1</td>\n",
       "      <td>0</td>\n",
       "      <td>0</td>\n",
       "      <td>5</td>\n",
       "      <td>0</td>\n",
       "      <td>1</td>\n",
       "      <td>2</td>\n",
       "    </tr>\n",
       "    <tr>\n",
       "      <th>1</th>\n",
       "      <td>0</td>\n",
       "      <td>0</td>\n",
       "      <td>0</td>\n",
       "      <td>0</td>\n",
       "      <td>0</td>\n",
       "      <td>0</td>\n",
       "      <td>0</td>\n",
       "      <td>2</td>\n",
       "      <td>1</td>\n",
       "      <td>1</td>\n",
       "      <td>...</td>\n",
       "      <td>0</td>\n",
       "      <td>0</td>\n",
       "      <td>0</td>\n",
       "      <td>0</td>\n",
       "      <td>1</td>\n",
       "      <td>0</td>\n",
       "      <td>1</td>\n",
       "      <td>0</td>\n",
       "      <td>0</td>\n",
       "      <td>0</td>\n",
       "    </tr>\n",
       "    <tr>\n",
       "      <th>2</th>\n",
       "      <td>0</td>\n",
       "      <td>0</td>\n",
       "      <td>0</td>\n",
       "      <td>0</td>\n",
       "      <td>0</td>\n",
       "      <td>0</td>\n",
       "      <td>0</td>\n",
       "      <td>0</td>\n",
       "      <td>0</td>\n",
       "      <td>0</td>\n",
       "      <td>...</td>\n",
       "      <td>0</td>\n",
       "      <td>0</td>\n",
       "      <td>0</td>\n",
       "      <td>0</td>\n",
       "      <td>0</td>\n",
       "      <td>1</td>\n",
       "      <td>0</td>\n",
       "      <td>0</td>\n",
       "      <td>0</td>\n",
       "      <td>0</td>\n",
       "    </tr>\n",
       "    <tr>\n",
       "      <th>3</th>\n",
       "      <td>1</td>\n",
       "      <td>0</td>\n",
       "      <td>1</td>\n",
       "      <td>0</td>\n",
       "      <td>0</td>\n",
       "      <td>1</td>\n",
       "      <td>0</td>\n",
       "      <td>0</td>\n",
       "      <td>1</td>\n",
       "      <td>0</td>\n",
       "      <td>...</td>\n",
       "      <td>1</td>\n",
       "      <td>1</td>\n",
       "      <td>0</td>\n",
       "      <td>0</td>\n",
       "      <td>0</td>\n",
       "      <td>0</td>\n",
       "      <td>0</td>\n",
       "      <td>1</td>\n",
       "      <td>0</td>\n",
       "      <td>0</td>\n",
       "    </tr>\n",
       "  </tbody>\n",
       "</table>\n",
       "<p>4 rows × 1049 columns</p>\n",
       "</div>"
      ],
      "text/plain": [
       "   10  12m  15  180m  19m  20  2010  2011  2014  2015  ...  workload  \\\n",
       "0   0    1   2     1    1   1     1     2     0     2  ...         0   \n",
       "1   0    0   0     0    0   0     0     2     1     1  ...         0   \n",
       "2   0    0   0     0    0   0     0     0     0     0  ...         0   \n",
       "3   1    0   1     0    0   1     0     0     1     0  ...         1   \n",
       "\n",
       "   workloads  writer  writing  wrote  www  year  years  yellow  young  \n",
       "0          0       1        1      0    0     5      0       1      2  \n",
       "1          0       0        0      1    0     1      0       0      0  \n",
       "2          0       0        0      0    1     0      0       0      0  \n",
       "3          1       0        0      0    0     0      1       0      0  \n",
       "\n",
       "[4 rows x 1049 columns]"
      ]
     },
     "execution_count": 30,
     "metadata": {},
     "output_type": "execute_result"
    }
   ],
   "source": [
    "resume_vec2"
   ]
  },
  {
   "cell_type": "code",
   "execution_count": 34,
   "id": "0f267345",
   "metadata": {},
   "outputs": [],
   "source": [
    "t = resume_vec2.T"
   ]
  },
  {
   "cell_type": "code",
   "execution_count": null,
   "id": "c707255e",
   "metadata": {},
   "outputs": [],
   "source": []
  },
  {
   "cell_type": "code",
   "execution_count": null,
   "id": "ee20efab",
   "metadata": {},
   "outputs": [],
   "source": []
  },
  {
   "cell_type": "code",
   "execution_count": null,
   "id": "73ae5c52",
   "metadata": {},
   "outputs": [],
   "source": []
  },
  {
   "cell_type": "code",
   "execution_count": null,
   "id": "b84ad640",
   "metadata": {},
   "outputs": [],
   "source": []
  },
  {
   "cell_type": "code",
   "execution_count": null,
   "id": "a9df35a1",
   "metadata": {},
   "outputs": [],
   "source": []
  },
  {
   "cell_type": "code",
   "execution_count": null,
   "id": "2658ccaf",
   "metadata": {},
   "outputs": [],
   "source": []
  }
 ],
 "metadata": {
  "kernelspec": {
   "display_name": "Python 3 (ipykernel)",
   "language": "python",
   "name": "python3"
  },
  "language_info": {
   "codemirror_mode": {
    "name": "ipython",
    "version": 3
   },
   "file_extension": ".py",
   "mimetype": "text/x-python",
   "name": "python",
   "nbconvert_exporter": "python",
   "pygments_lexer": "ipython3",
   "version": "3.11.5"
  }
 },
 "nbformat": 4,
 "nbformat_minor": 5
}
